{
 "cells": [
  {
   "cell_type": "code",
   "execution_count": 1,
   "id": "0c29bd42",
   "metadata": {},
   "outputs": [],
   "source": [
    "a = 10\n",
    "b = 5"
   ]
  },
  {
   "cell_type": "code",
   "execution_count": 2,
   "id": "1aa57a26",
   "metadata": {},
   "outputs": [
    {
     "name": "stdout",
     "output_type": "stream",
     "text": [
      "True\n"
     ]
    }
   ],
   "source": [
    "print(a > b) # 맞다"
   ]
  },
  {
   "cell_type": "code",
   "execution_count": 7,
   "id": "f2b68420",
   "metadata": {},
   "outputs": [
    {
     "name": "stdout",
     "output_type": "stream",
     "text": [
      "False\n"
     ]
    }
   ],
   "source": [
    "print(a == b) #다르다"
   ]
  },
  {
   "cell_type": "code",
   "execution_count": 12,
   "id": "1e76740d",
   "metadata": {},
   "outputs": [
    {
     "name": "stdout",
     "output_type": "stream",
     "text": [
      "True\n"
     ]
    }
   ],
   "source": [
    "print(a != b) #참"
   ]
  },
  {
   "cell_type": "code",
   "execution_count": 13,
   "id": "9d3ef3dd",
   "metadata": {},
   "outputs": [
    {
     "name": "stdout",
     "output_type": "stream",
     "text": [
      "False\n"
     ]
    }
   ],
   "source": [
    "print(a <= b) #거짓"
   ]
  },
  {
   "cell_type": "code",
   "execution_count": 14,
   "id": "24559ba5",
   "metadata": {},
   "outputs": [
    {
     "name": "stdout",
     "output_type": "stream",
     "text": [
      "True\n"
     ]
    }
   ],
   "source": [
    "print(a >= b) #참"
   ]
  },
  {
   "cell_type": "code",
   "execution_count": null,
   "id": "4eebea8c",
   "metadata": {},
   "outputs": [
    {
     "name": "stdout",
     "output_type": "stream",
     "text": [
      "콜라\n",
      "500원\n",
      "5\n",
      " 콜라 5개 금액은 2500원이다!\n",
      "에에잇!! 돈이 부족하다!!\n"
     ]
    }
   ],
   "source": [
    "음료 = input(\"콜라, 사이다, 맥콜 중 하나의 음료수를 입력하세요.\")\n",
    "print(음료)\n",
    "\n",
    "금액 = 0\n",
    "if 음료 == '콜라':\n",
    "    금액 = 500\n",
    "if 음료 == '사이다':\n",
    "    금액 = 450\n",
    "if 음료 == '맥콜':\n",
    "    금액 = 300    \n",
    "    \n",
    "print(f'{금액}원')\n",
    "    \n",
    "수량 = input(\"선택하신 음료의 수량을 입력하세요.\")\n",
    "수량 = int(수량)\n",
    "print(수량)\n",
    "print(f' {음료} {수량}개 금액은 {금액 * 수량}원이다!')\n",
    "지불금액 = input(\"지불할 금액을 입력하세요.\")\n",
    "if int(지불금액) <= 금액 * 수량:\n",
    "    print(\"에에잇!! 돈이 부족하다!!\")\n",
    "if int(지불금액) > 금액 * 수량: #참\n",
    "    print(\"금액이 좋은 방향으로 개선된 것 같군.\")"
   ]
  }
 ],
 "metadata": {
  "kernelspec": {
   "display_name": "Python 3",
   "language": "python",
   "name": "python3"
  },
  "language_info": {
   "codemirror_mode": {
    "name": "ipython",
    "version": 3
   },
   "file_extension": ".py",
   "mimetype": "text/x-python",
   "name": "python",
   "nbconvert_exporter": "python",
   "pygments_lexer": "ipython3",
   "version": "3.13.5"
  }
 },
 "nbformat": 4,
 "nbformat_minor": 5
}
