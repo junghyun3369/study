{
 "cells": [
  {
   "cell_type": "code",
   "execution_count": 1,
   "id": "93c17983",
   "metadata": {},
   "outputs": [
    {
     "name": "stdout",
     "output_type": "stream",
     "text": [
      "3\n"
     ]
    }
   ],
   "source": [
    "a = 1\n",
    "b = 2\n",
    "c = a + b # 1 + 2 = 3\n",
    "print(c)"
   ]
  },
  {
   "cell_type": "code",
   "execution_count": 7,
   "id": "2b8fee64",
   "metadata": {},
   "outputs": [
    {
     "name": "stdout",
     "output_type": "stream",
     "text": [
      "Life is too short You need python\n",
      "Life is too short You need python\n",
      "Life is too short You need python\n",
      "\n"
     ]
    }
   ],
   "source": [
    "a = 'Life is too short You need python'\n",
    "print((a + '\\n') * 3)"
   ]
  },
  {
   "cell_type": "code",
   "execution_count": 3,
   "id": "e1f22dcc",
   "metadata": {},
   "outputs": [
    {
     "name": "stdout",
     "output_type": "stream",
     "text": [
      "100\n"
     ]
    }
   ],
   "source": [
    "a = 100\n",
    "print (a)"
   ]
  },
  {
   "cell_type": "code",
   "execution_count": 8,
   "id": "56242b36",
   "metadata": {},
   "outputs": [
    {
     "name": "stdout",
     "output_type": "stream",
     "text": [
      "Turn of the LIghts to hear baby \n",
      " runaway baby you can \t down for a night\n"
     ]
    }
   ],
   "source": [
    "a = 'Turn of the LIghts to hear baby \\n runaway baby you can \\t down for a night'\n",
    "print(a)"
   ]
  },
  {
   "cell_type": "code",
   "execution_count": 9,
   "id": "168b1688",
   "metadata": {},
   "outputs": [
    {
     "name": "stdout",
     "output_type": "stream",
     "text": [
      "too\n"
     ]
    }
   ],
   "source": [
    "a = \"Life is too short, You need python\"\n",
    "\n",
    "print(a[8]+ a[9]+ a[10])"
   ]
  },
  {
   "cell_type": "code",
   "execution_count": 11,
   "id": "ab1e3360",
   "metadata": {},
   "outputs": [
    {
     "name": "stdout",
     "output_type": "stream",
     "text": [
      "n\n"
     ]
    }
   ],
   "source": [
    "a = \"Life is too short, You need python\"\n",
    "print(a[-1])"
   ]
  },
  {
   "cell_type": "code",
   "execution_count": 15,
   "id": "f1e2fdf3",
   "metadata": {},
   "outputs": [
    {
     "name": "stdout",
     "output_type": "stream",
     "text": [
      "Life is too short, You need 100\n"
     ]
    }
   ],
   "source": [
    "a = 100\n",
    "print(\"Life is too short, You need %d\" % a)"
   ]
  },
  {
   "cell_type": "code",
   "execution_count": 16,
   "id": "4e89d320",
   "metadata": {},
   "outputs": [
    {
     "name": "stdout",
     "output_type": "stream",
     "text": [
      "Life is too short, You need python\n"
     ]
    }
   ],
   "source": [
    "a = \"python\"\n",
    "print(\"Life is too short, You need %s\" % a)"
   ]
  },
  {
   "cell_type": "code",
   "execution_count": 17,
   "id": "e224dc7f",
   "metadata": {},
   "outputs": [
    {
     "name": "stdout",
     "output_type": "stream",
     "text": [
      "Life is too short, You need Python\n"
     ]
    }
   ],
   "source": [
    "a = \"Python\"\n",
    "print(f\"Life is too short, You need {a}\")"
   ]
  },
  {
   "cell_type": "code",
   "execution_count": 18,
   "id": "a9ffee89",
   "metadata": {},
   "outputs": [
    {
     "name": "stdout",
     "output_type": "stream",
     "text": [
      "Life is too short, You need 100\n"
     ]
    }
   ],
   "source": [
    "a = 100\n",
    "print(\"Life is too short, You need %d\" % a)"
   ]
  },
  {
   "cell_type": "code",
   "execution_count": 19,
   "id": "25aeaa5a",
   "metadata": {},
   "outputs": [
    {
     "name": "stdout",
     "output_type": "stream",
     "text": [
      "Life is too short, You need Python\n"
     ]
    }
   ],
   "source": [
    "a = \"Python\"\n",
    "print(f\"Life is too short, You need {a}\")"
   ]
  }
 ],
 "metadata": {
  "kernelspec": {
   "display_name": "Python 3",
   "language": "python",
   "name": "python3"
  },
  "language_info": {
   "codemirror_mode": {
    "name": "ipython",
    "version": 3
   },
   "file_extension": ".py",
   "mimetype": "text/x-python",
   "name": "python",
   "nbconvert_exporter": "python",
   "pygments_lexer": "ipython3",
   "version": "3.13.5"
  }
 },
 "nbformat": 4,
 "nbformat_minor": 5
}
