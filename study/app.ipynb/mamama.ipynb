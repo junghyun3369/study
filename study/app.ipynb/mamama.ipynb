{
 "cells": [
  {
   "cell_type": "markdown",
   "id": "66eb9363",
   "metadata": {},
   "source": [
    "제어문\n",
    "1. 조건문 : if\n",
    "2. 반복문 : for,while"
   ]
  },
  {
   "cell_type": "code",
   "execution_count": 3,
   "id": "639396c8",
   "metadata": {},
   "outputs": [
    {
     "name": "stdout",
     "output_type": "stream",
     "text": [
      "True\n"
     ]
    }
   ],
   "source": [
    "a = 5\n",
    "print(a ==5)\n"
   ]
  },
  {
   "cell_type": "code",
   "execution_count": 5,
   "id": "1685632c",
   "metadata": {},
   "outputs": [
    {
     "name": "stdout",
     "output_type": "stream",
     "text": [
      "다르다\n"
     ]
    }
   ],
   "source": [
    "a = 10 == 3\n",
    "if a: \n",
    "    print(\"맞다\")\n",
    "else:\n",
    "    print(\"다르다\")"
   ]
  },
  {
   "cell_type": "code",
   "execution_count": 48,
   "id": "ae31e054",
   "metadata": {},
   "outputs": [
    {
     "name": "stdout",
     "output_type": "stream",
     "text": [
      "내 지갑은 겉치례가 아니야!\n",
      "you Belong to me~\n"
     ]
    }
   ],
   "source": [
    "지갑 = 10000\n",
    "음식 = 2500\n",
    "구매수량 = 3\n",
    "print(\"내 지갑은 겉치례가 아니야!\")\n",
    "\n",
    "지불할금액 = input(\"지불할 금액을 입력하세요.\")\n",
    "\n",
    "if int(지불할금액) == (음식 * 구매수량):\n",
    "    print(\"you Belong to me~\")\n",
    "else:\n",
    "    print('뭐라고?! 으아아악!!!')"
   ]
  },
  {
   "cell_type": "code",
   "execution_count": 53,
   "id": "03b7392c",
   "metadata": {},
   "outputs": [
    {
     "name": "stdout",
     "output_type": "stream",
     "text": [
      "뉴 건담은 겉치례가 아냐!\n",
      "902000\n",
      "you Belong to me~\n"
     ]
    }
   ],
   "source": [
    "에너지게인 = 950000\n",
    "핀판넬 = 8000\n",
    "판넬갯수 = 6\n",
    "print(\"뉴 건담은 겉치례가 아냐!\")\n",
    "print(에너지게인 - (핀판넬 * 판넬갯수))\n",
    "\n",
    "사용할에너지 = input(\"액시즈가...!\")\n",
    "\n",
    "if int(사용할에너지) == (핀판넬 * 판넬갯수):\n",
    "    print(\"you Belong to me~\")\n",
    "else:\n",
    "    print('뭐라고?! 으아아악!!!')"
   ]
  },
  {
   "cell_type": "markdown",
   "id": "567ee6ae",
   "metadata": {},
   "source": [
    "음료수를 구매 할 수 있는 자판기 입니다. 음료수 종류 및 개당 금액\n",
    "\n",
    "콜라 : 500\n",
    "사이다 : 450\n",
    "맥콜 : 300\n",
    "\n",
    "'문제1) 아래의 조건문에서 해당 음료수를 선택 했을 경우 금액을 알려주고 수량을 받는 입력창을 띄우세요.'\n",
    "\n",
    "\n",
    "'문제2) 선택한 음료와 수량의 총 합을 출력해 주세요. 예) 콜라 3개 금액은 1500원 입니다.'\n",
    "\n",
    "\n",
    "'문제3) 사용자에서 금액을 받고 알맞은 결과를 출력해 주세요. 예) 2000원를 받고 500원 거스름돈를 받으세요."
   ]
  },
  {
   "cell_type": "code",
   "execution_count": 10,
   "id": "a59846ef",
   "metadata": {},
   "outputs": [
    {
     "name": "stdout",
     "output_type": "stream",
     "text": [
      "콜라는 500원, 콜라도 맛있어\n",
      " 콜라 2개 금액은 1000원이다!\n",
      "지불금액은 5000원이다.\n",
      "거스름돈은 4000원이다....!\n",
      "나는 지금 자판기에서 콜라를 2개 주문했다.근처에 있다면 날 느껴봐라..!\n"
     ]
    }
   ],
   "source": [
    "선택한음료 = input(\"콜라, 사이다, 맥콜 중 하나를 주문하세요.\")\n",
    "금액 = 0\n",
    "콜라 = 500\n",
    "사이다 = 450\n",
    "맥콜 = 300\n",
    "if 선택한음료 == \"콜라\":\n",
    "    print(\"콜라는 500원, 콜라도 맛있어\")\n",
    "    금액 = 500\n",
    "elif 선택한음료 == \"사이다\":\n",
    "    print(\"사이다는 450원, 이게 사이다구나 잘만들었네\")\n",
    "    금액 = 450\n",
    "elif 선택한음료 == \"맥콜\":\n",
    "    print(\"맥콜은 300원, 없는거보단 낫지\")\n",
    "    금액 = 300\n",
    "elif 선택한음료 == \"axolotl\":\n",
    "    print(\"뭐라고..?!\")\n",
    "    금액 = 99999999\n",
    "else:\n",
    "    print(\"그런건 에고라고..!\") \n",
    "수량 = int(input('주문해!!!!'))\n",
    "print(f' {선택한음료} {수량}개 금액은 {금액 * 수량}원이다!')\n",
    "지불금액 = int(input('지불할 금액을 입력으헤.'))\n",
    "거스름돈 = (지불금액 - (금액 * 수량))\n",
    "print (f'지불금액은 {지불금액}원이다.')\n",
    "print(f'거스름돈은 {거스름돈}원이다....!')\n",
    "print(f'나는 지금 자판기에서 {선택한음료}를 {수량}개 주문했다.근처에 있다면 날 느껴봐라..!')"
   ]
  }
 ],
 "metadata": {
  "kernelspec": {
   "display_name": "Python 3",
   "language": "python",
   "name": "python3"
  },
  "language_info": {
   "codemirror_mode": {
    "name": "ipython",
    "version": 3
   },
   "file_extension": ".py",
   "mimetype": "text/x-python",
   "name": "python",
   "nbconvert_exporter": "python",
   "pygments_lexer": "ipython3",
   "version": "3.13.5"
  }
 },
 "nbformat": 4,
 "nbformat_minor": 5
}
