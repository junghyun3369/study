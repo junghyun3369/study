{
 "cells": [
  {
   "cell_type": "code",
   "execution_count": 1,
   "id": "e84cb103",
   "metadata": {},
   "outputs": [
    {
     "name": "stdout",
     "output_type": "stream",
     "text": [
      "<class 'list'>\n"
     ]
    }
   ],
   "source": [
    "a =[]\n",
    "print(type(a))"
   ]
  },
  {
   "cell_type": "code",
   "execution_count": 2,
   "id": "0ff71192",
   "metadata": {},
   "outputs": [
    {
     "name": "stdout",
     "output_type": "stream",
     "text": [
      "[1, 2, 4, 6]\n"
     ]
    }
   ],
   "source": [
    "a = [1,2,4,6]\n",
    "print(a)"
   ]
  },
  {
   "cell_type": "code",
   "execution_count": 3,
   "id": "176a675e",
   "metadata": {},
   "outputs": [
    {
     "name": "stdout",
     "output_type": "stream",
     "text": [
      "1\n",
      "2\n",
      "4\n",
      "6\n"
     ]
    }
   ],
   "source": [
    "for b in a:\n",
    "    print(b)"
   ]
  },
  {
   "cell_type": "code",
   "execution_count": 6,
   "id": "da0b7f1b",
   "metadata": {},
   "outputs": [
    {
     "name": "stdout",
     "output_type": "stream",
     "text": [
      "0\n",
      "1\n",
      "2\n",
      "3\n",
      "4\n",
      "5\n",
      "6\n",
      "7\n",
      "8\n",
      "9\n"
     ]
    }
   ],
   "source": [
    "for b in range(10):\n",
    "    print(b)"
   ]
  },
  {
   "cell_type": "code",
   "execution_count": 13,
   "id": "46634217",
   "metadata": {},
   "outputs": [
    {
     "name": "stdout",
     "output_type": "stream",
     "text": [
      "3\n",
      "4\n",
      "5\n",
      "6\n",
      "7\n",
      "8\n",
      "9\n"
     ]
    }
   ],
   "source": [
    "for b in range(3,10):\n",
    "    print(b)"
   ]
  },
  {
   "cell_type": "code",
   "execution_count": 5,
   "id": "2880429f",
   "metadata": {},
   "outputs": [
    {
     "name": "stdout",
     "output_type": "stream",
     "text": [
      "4\n",
      "5\n",
      "6\n",
      "7\n",
      "8\n",
      "9\n"
     ]
    }
   ],
   "source": [
    "for b in range(4,10):\n",
    "    print(b)"
   ]
  },
  {
   "cell_type": "code",
   "execution_count": null,
   "id": "1d95af21",
   "metadata": {},
   "outputs": [],
   "source": [
    "단 = [1,2,3,4,5,6,7,8,9]\n",
    "곱 = range(1,10)\n",
    "for a in 단:\n",
    "    print(a)\n",
    "    for b in 곱:\n",
    "        print(f'{a} * {b} = {a * b}')"
   ]
  },
  {
   "cell_type": "code",
   "execution_count": 16,
   "id": "ad666513",
   "metadata": {},
   "outputs": [
    {
     "name": "stdout",
     "output_type": "stream",
     "text": [
      "1\n",
      "2\n",
      "3\n",
      "5\n",
      "[1, 2, 3, 5]\n"
     ]
    }
   ],
   "source": [
    "값 = [1,2,3,5]\n",
    "결과 = []\n",
    "for 변수 in 값:\n",
    "    print(변수)\n",
    "    결과.append(변수)\n",
    "print(결과)"
   ]
  },
  {
   "cell_type": "code",
   "execution_count": 17,
   "id": "a2f9ab3d",
   "metadata": {},
   "outputs": [
    {
     "name": "stdout",
     "output_type": "stream",
     "text": [
      "[]\n",
      "<class 'list'>\n",
      "[]\n",
      "<class 'list'>\n",
      "[]\n",
      "<class 'list'>\n",
      "[]\n",
      "<class 'list'>\n",
      "[]\n",
      "<class 'list'>\n",
      "[]\n",
      "<class 'list'>\n"
     ]
    }
   ],
   "source": [
    "단 = []\n",
    "곱 = []\n",
    "구구단 = [[],[],[],[],[],[]]\n",
    "for 리스트 in 구구단:\n",
    "    print(리스트)\n",
    "    print(type(리스트))"
   ]
  },
  {
   "cell_type": "code",
   "execution_count": null,
   "id": "e85c60ee",
   "metadata": {},
   "outputs": [],
   "source": [
    "for 단 in range(1,10):\n",
    "    for 곱 in range(1,10):\n",
    "        print(f'{단} * {곱} = {단 *곱}')"
   ]
  },
  {
   "cell_type": "code",
   "execution_count": 26,
   "id": "3df01996",
   "metadata": {},
   "outputs": [
    {
     "name": "stdout",
     "output_type": "stream",
     "text": [
      "[['1 * 1 = 1', '1 * 2 = 2', '1 * 3 = 3', '1 * 4 = 4', '1 * 5 = 5', '1 * 6 = 6', '1 * 7 = 7', '1 * 8 = 8', '1 * 9 = 9']]\n"
     ]
    }
   ],
   "source": [
    "결과 = []\n",
    "for 단 in range(1,2):\n",
    "    빈배열 = []\n",
    "    for 곱 in range(1,10):\n",
    "        빈배열.append(f'{단} * {곱} = {단 *곱}')\n",
    "    결과.append(빈배열)\n",
    "    \n",
    "print(결과)"
   ]
  },
  {
   "cell_type": "code",
   "execution_count": 22,
   "id": "18759b24",
   "metadata": {},
   "outputs": [
    {
     "name": "stdout",
     "output_type": "stream",
     "text": [
      "10\n"
     ]
    }
   ],
   "source": [
    "배열 = [1,2,3]\n",
    "배열[1] = 10\n",
    "print(배열[1])\n"
   ]
  },
  {
   "cell_type": "code",
   "execution_count": 28,
   "id": "c0c7a165",
   "metadata": {},
   "outputs": [
    {
     "name": "stdout",
     "output_type": "stream",
     "text": [
      "[['1 + 1 = 2', '1 + 2 = 3', '1 + 3 = 4', '1 + 4 = 5', '1 + 5 = 6', '1 + 6 = 7', '1 + 7 = 8', '1 + 8 = 9', '1 + 9 = 10']]\n"
     ]
    }
   ],
   "source": [
    "결과 = []\n",
    "for 단 in range(1,2):\n",
    "    빈배열 = []\n",
    "    for 덧셈 in range(1,10):\n",
    "        빈배열.append(f'{단} + {덧셈} = {단 + 덧셈}')\n",
    "    결과.append(빈배열)\n",
    "print(결과)"
   ]
  },
  {
   "cell_type": "code",
   "execution_count": 36,
   "id": "007b6767",
   "metadata": {},
   "outputs": [
    {
     "name": "stdout",
     "output_type": "stream",
     "text": [
      "[['3 * 1 = 3', '3 * 2 = 6', '3 * 3 = 9', '3 * 4 = 12', '3 * 5 = 15', '3 * 6 = 18', '3 * 7 = 21', '3 * 8 = 24', '3 * 9 = 27'], ['4 * 1 = 4', '4 * 2 = 8', '4 * 3 = 12', '4 * 4 = 16', '4 * 5 = 20', '4 * 6 = 24', '4 * 7 = 28', '4 * 8 = 32', '4 * 9 = 36'], ['5 * 1 = 5', '5 * 2 = 10', '5 * 3 = 15', '5 * 4 = 20', '5 * 5 = 25', '5 * 6 = 30', '5 * 7 = 35', '5 * 8 = 40', '5 * 9 = 45'], ['6 * 1 = 6', '6 * 2 = 12', '6 * 3 = 18', '6 * 4 = 24', '6 * 5 = 30', '6 * 6 = 36', '6 * 7 = 42', '6 * 8 = 48', '6 * 9 = 54'], ['7 * 1 = 7', '7 * 2 = 14', '7 * 3 = 21', '7 * 4 = 28', '7 * 5 = 35', '7 * 6 = 42', '7 * 7 = 49', '7 * 8 = 56', '7 * 9 = 63'], ['8 * 1 = 8', '8 * 2 = 16', '8 * 3 = 24', '8 * 4 = 32', '8 * 5 = 40', '8 * 6 = 48', '8 * 7 = 56', '8 * 8 = 64', '8 * 9 = 72']]\n"
     ]
    }
   ],
   "source": [
    "이왜진 = []\n",
    "for 부거 in range(3,9):\n",
    "    행이 = []\n",
    "    for 허걱스 in range(1,10):\n",
    "        행이.append(f'{부거} * {허걱스} = {부거 * 허걱스}')\n",
    "    이왜진.append(행이)\n",
    "print(이왜진)"
   ]
  }
 ],
 "metadata": {
  "kernelspec": {
   "display_name": "Python 3",
   "language": "python",
   "name": "python3"
  },
  "language_info": {
   "codemirror_mode": {
    "name": "ipython",
    "version": 3
   },
   "file_extension": ".py",
   "mimetype": "text/x-python",
   "name": "python",
   "nbconvert_exporter": "python",
   "pygments_lexer": "ipython3",
   "version": "3.13.5"
  }
 },
 "nbformat": 4,
 "nbformat_minor": 5
}
