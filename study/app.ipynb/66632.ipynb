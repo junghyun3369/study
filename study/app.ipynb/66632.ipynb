{
 "cells": [
  {
   "cell_type": "markdown",
   "id": "aeada442",
   "metadata": {},
   "source": [
    "반복문에서 사용되는 기능\n",
    "- break : 강제로 종료\n",
    "- continue : 다음으로 점프"
   ]
  },
  {
   "cell_type": "code",
   "execution_count": 1,
   "id": "abc3151f",
   "metadata": {},
   "outputs": [
    {
     "name": "stdout",
     "output_type": "stream",
     "text": [
      "1\n",
      "2\n",
      "3\n",
      "4\n"
     ]
    }
   ],
   "source": [
    "변수 = 0\n",
    "while True:\n",
    "    변수 += 1\n",
    "    if 변수 == 5:\n",
    "        break\n",
    "    else:\n",
    "        print(변수)"
   ]
  },
  {
   "cell_type": "code",
   "execution_count": 4,
   "id": "8abb4013",
   "metadata": {},
   "outputs": [
    {
     "name": "stdout",
     "output_type": "stream",
     "text": [
      "1\n",
      "3\n",
      "5\n"
     ]
    }
   ],
   "source": [
    "변수 = 0\n",
    "while 변수 < 5:\n",
    "    변수 += 1\n",
    "    if 변수%2 == 0:\n",
    "        continue\n",
    "    else:\n",
    "        print(변수)"
   ]
  },
  {
   "cell_type": "code",
   "execution_count": 9,
   "id": "610cbc5f",
   "metadata": {},
   "outputs": [
    {
     "name": "stdout",
     "output_type": "stream",
     "text": [
      "1\n",
      "3\n",
      "5\n"
     ]
    }
   ],
   "source": [
    "변수 = 0\n",
    "while 변수 < 5:\n",
    "    변수 += 1\n",
    "    if 변수%2 == 0:\n",
    "        continue\n",
    "    else:\n",
    "        print(변수)"
   ]
  },
  {
   "cell_type": "code",
   "execution_count": null,
   "id": "0db29040",
   "metadata": {},
   "outputs": [],
   "source": [
    "a = True\n",
    "b = 0\n",
    "\n",
    "while a:\n",
    "    if b == 0:\n",
    "        print(b)\n",
    "    \n",
    "    \n",
    "    b += 1\n",
    "    if b == 4:\n",
    "        continue\n",
    "    print(b)"
   ]
  },
  {
   "cell_type": "code",
   "execution_count": 27,
   "id": "5ce1ecba",
   "metadata": {},
   "outputs": [
    {
     "name": "stdout",
     "output_type": "stream",
     "text": [
      "1\n",
      "1 * 1 = 1 \n",
      "1 * 2 = 2 \n",
      "1 * 3 = 3 \n",
      "1 * 4 = 4 \n",
      "1 * 5 = 5 \n",
      "1 * 6 = 6 \n",
      "1 * 7 = 7 \n",
      "1 * 8 = 8 \n",
      "1 * 9 = 9 \n",
      "3\n",
      "3 * 1 = 3 \n",
      "3 * 2 = 6 \n",
      "3 * 3 = 9 \n",
      "3 * 4 = 12 \n",
      "3 * 5 = 15 \n",
      "3 * 6 = 18 \n",
      "3 * 7 = 21 \n",
      "3 * 8 = 24 \n",
      "3 * 9 = 27 \n",
      "5\n",
      "5 * 1 = 5 \n",
      "5 * 2 = 10 \n",
      "5 * 3 = 15 \n",
      "5 * 4 = 20 \n",
      "5 * 5 = 25 \n",
      "5 * 6 = 30 \n",
      "5 * 7 = 35 \n",
      "5 * 8 = 40 \n",
      "5 * 9 = 45 \n",
      "7\n",
      "7 * 1 = 7 \n",
      "7 * 2 = 14 \n",
      "7 * 3 = 21 \n",
      "7 * 4 = 28 \n",
      "7 * 5 = 35 \n",
      "7 * 6 = 42 \n",
      "7 * 7 = 49 \n",
      "7 * 8 = 56 \n",
      "7 * 9 = 63 \n",
      "9\n",
      "9 * 1 = 9 \n",
      "9 * 2 = 18 \n",
      "9 * 3 = 27 \n",
      "9 * 4 = 36 \n",
      "9 * 5 = 45 \n",
      "9 * 6 = 54 \n",
      "9 * 7 = 63 \n",
      "9 * 8 = 72 \n",
      "9 * 9 = 81 \n"
     ]
    }
   ],
   "source": [
    "시작 = 1\n",
    "끝 = 10\n",
    "while 시작 < 10:\n",
    "    \n",
    "    if 시작%2 == 0:\n",
    "        시작 += 1\n",
    "        continue\n",
    "    print(시작)\n",
    "        \n",
    "    곱 = 1\n",
    "    while 곱 < 10:\n",
    "        print(f'{시작} * {곱} = {시작 * 곱} ' )\n",
    "        곱 += 1\n",
    "            \n",
    "    시작 += 1\n",
    "            "
   ]
  },
  {
   "cell_type": "code",
   "execution_count": null,
   "id": "e296fb40",
   "metadata": {},
   "outputs": [],
   "source": [
    "시작 = 1\n",
    "끝 = 10\n",
    "while 시작 < 10:\n",
    "    \n",
    "    if 시작 % 2 == 0:\n",
    "        시작 += 1\n",
    "        continue\n",
    "    print(시작)\n",
    "    \n",
    "    곱 = 1\n",
    "    while 곱 < 10:\n",
    "        print(f'{시작} * {곱} = {시작 * 곱} ' )\n",
    "        곱 += 1\n",
    "        \n",
    "    시작 += 1"
   ]
  },
  {
   "cell_type": "code",
   "execution_count": 31,
   "id": "6cb1838d",
   "metadata": {},
   "outputs": [
    {
     "name": "stdout",
     "output_type": "stream",
     "text": [
      "1\n",
      "1 * 1 = 1 \n",
      "1 * 2 = 2 \n",
      "1 * 3 = 3 \n",
      "1 * 4 = 4 \n",
      "1 * 5 = 5 \n",
      "1 * 6 = 6 \n",
      "1 * 7 = 7 \n",
      "1 * 8 = 8 \n",
      "1 * 9 = 9 \n"
     ]
    }
   ],
   "source": [
    "시작 = 1\n",
    "끝 = 10\n",
    "while 시작 < 10:\n",
    "    \n",
    "    if 시작 % 2 == 0:\n",
    "        시작 += 1\n",
    "        break\n",
    "    print(시작)\n",
    "    \n",
    "    곱 = 1\n",
    "    while 곱 < 10:\n",
    "        print(f'{시작} * {곱} = {시작 * 곱} ' )\n",
    "        곱 += 1\n",
    "        \n",
    "    시작 += 1"
   ]
  }
 ],
 "metadata": {
  "kernelspec": {
   "display_name": "Python 3",
   "language": "python",
   "name": "python3"
  },
  "language_info": {
   "codemirror_mode": {
    "name": "ipython",
    "version": 3
   },
   "file_extension": ".py",
   "mimetype": "text/x-python",
   "name": "python",
   "nbconvert_exporter": "python",
   "pygments_lexer": "ipython3",
   "version": "3.13.5"
  }
 },
 "nbformat": 4,
 "nbformat_minor": 5
}
